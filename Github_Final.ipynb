{
  "cells": [
    {
      "cell_type": "markdown",
      "metadata": {
        "id": "CcUT6Fon_qRE"
      },
      "source": [
        "### Required Assignment 5.1: Will the Customer Accept the Coupon?\n",
        "\n",
        "**Context**\n",
        "\n",
        "Imagine driving through town and a coupon is delivered to your cell phone for a restaurant near where you are driving. Would you accept that coupon and take a short detour to the restaurant? Would you accept the coupon but use it on a subsequent trip? Would you ignore the coupon entirely? What if the coupon was for a bar instead of a restaurant? What about a coffee house? Would you accept a bar coupon with a minor passenger in the car? What about if it was just you and your partner in the car? Would weather impact the rate of acceptance? What about the time of day?\n",
        "\n",
        "Obviously, proximity to the business is a factor on whether the coupon is delivered to the driver or not, but what are the factors that determine whether a driver accepts the coupon once it is delivered to them? How would you determine whether a driver is likely to accept a coupon?\n",
        "\n",
        "**Overview**\n",
        "\n",
        "The goal of this project is to use what you know about visualizations and probability distributions to distinguish between customers who accepted a driving coupon versus those that did not.\n",
        "\n",
        "**Data**\n",
        "\n",
        "This data comes to us from the UCI Machine Learning repository and was collected via a survey on Amazon Mechanical Turk. The survey describes different driving scenarios including the destination, current time, weather, passenger, etc., and then ask the person whether he will accept the coupon if he is the driver. Answers that the user will drive there ‘right away’ or ‘later before the coupon expires’ are labeled as ‘Y = 1’ and answers ‘no, I do not want the coupon’ are labeled as ‘Y = 0’.  There are five different types of coupons -- less expensive restaurants (under \\$20), coffee houses, carry out & take away, bar, and more expensive restaurants (\\$20 - $50)."
      ]
    },
    {
      "cell_type": "markdown",
      "metadata": {
        "id": "1wORvMBJ_qRF"
      },
      "source": [
        "**Deliverables**\n",
        "\n",
        "Your final product should be a brief report that highlights the differences between customers who did and did not accept the coupons.  To explore the data you will utilize your knowledge of plotting, statistical summaries, and visualization using Python. You will publish your findings in a public facing github repository as your first portfolio piece.\n",
        "\n",
        "\n",
        "\n"
      ]
    },
    {
      "cell_type": "markdown",
      "metadata": {
        "id": "pG6_Ym6q_qRG"
      },
      "source": [
        "### Data Description\n",
        "Keep in mind that these values mentioned below are average values.\n",
        "\n",
        "The attributes of this data set include:\n",
        "1. User attributes\n",
        "    -  Gender: male, female\n",
        "    -  Age: below 21, 21 to 25, 26 to 30, etc.\n",
        "    -  Marital Status: single, married partner, unmarried partner, or widowed\n",
        "    -  Number of children: 0, 1, or more than 1\n",
        "    -  Education: high school, bachelors degree, associates degree, or graduate degree\n",
        "    -  Occupation: architecture & engineering, business & financial, etc.\n",
        "    -  Annual income: less than \\\\$12500, \\\\$12500 - \\\\$24999, \\\\$25000 - \\\\$37499, etc.\n",
        "    -  Number of times that he/she goes to a bar: 0, less than 1, 1 to 3, 4 to 8 or greater than 8\n",
        "    -  Number of times that he/she buys takeaway food: 0, less than 1, 1 to 3, 4 to 8 or greater\n",
        "    than 8\n",
        "    -  Number of times that he/she goes to a coffee house: 0, less than 1, 1 to 3, 4 to 8 or\n",
        "    greater than 8\n",
        "    -  Number of times that he/she eats at a restaurant with average expense less than \\\\$20 per\n",
        "    person: 0, less than 1, 1 to 3, 4 to 8 or greater than 8\n",
        "    -  Number of times that he/she goes to a bar: 0, less than 1, 1 to 3, 4 to 8 or greater than 8\n",
        "    \n",
        "\n",
        "2. Contextual attributes\n",
        "    - Driving destination: home, work, or no urgent destination\n",
        "    - Location of user, coupon and destination: we provide a map to show the geographical\n",
        "    location of the user, destination, and the venue, and we mark the distance between each\n",
        "    two places with time of driving. The user can see whether the venue is in the same\n",
        "    direction as the destination.\n",
        "    - Weather: sunny, rainy, or snowy\n",
        "    - Temperature: 30F, 55F, or 80F\n",
        "    - Time: 10AM, 2PM, or 6PM\n",
        "    - Passenger: alone, partner, kid(s), or friend(s)\n",
        "\n",
        "\n",
        "3. Coupon attributes\n",
        "    - time before it expires: 2 hours or one day"
      ]
    },
    {
      "cell_type": "code",
      "execution_count": null,
      "metadata": {
        "id": "dzNoP3o__qRG"
      },
      "outputs": [],
      "source": [
        "import matplotlib.pyplot as plt\n",
        "import seaborn as sns\n",
        "import pandas as pd\n",
        "import numpy as np"
      ]
    },
    {
      "cell_type": "markdown",
      "metadata": {
        "id": "Ct8pI1uE_qRG"
      },
      "source": [
        "### Problems\n",
        "\n",
        "Use the prompts below to get started with your data analysis.  \n",
        "\n",
        "1. Read in the `coupons.csv` file.\n",
        "\n",
        "\n"
      ]
    },
    {
      "cell_type": "code",
      "execution_count": 1,
      "metadata": {
        "id": "X0vbffYg_qRH",
        "colab": {
          "height": 551
        },
        "executionInfo": {
          "status": "error",
          "timestamp": 1747634256010,
          "user_tz": 420,
          "elapsed": 18249,
          "user": {
            "displayName": "Anik Ghosh",
            "userId": "05892729527457108597"
          }
        },
        "outputId": "eabf7f7b-b4eb-4128-d0e3-e8519bd90724"
      },
      "outputs": [
        {
          "output_type": "display_data",
          "data": {
            "text/html": [
              "\n",
              "     <input type=\"file\" id=\"files-bef1224a-a632-4595-9b8b-6f433983fb3a\" name=\"files[]\" multiple disabled\n",
              "        style=\"border:none\" />\n",
              "     <output id=\"result-bef1224a-a632-4595-9b8b-6f433983fb3a\">\n",
              "      Upload widget is only available when the cell has been executed in the\n",
              "      current browser session. Please rerun this cell to enable.\n",
              "      </output>\n",
              "      <script>// Copyright 2017 Google LLC\n",
              "//\n",
              "// Licensed under the Apache License, Version 2.0 (the \"License\");\n",
              "// you may not use this file except in compliance with the License.\n",
              "// You may obtain a copy of the License at\n",
              "//\n",
              "//      http://www.apache.org/licenses/LICENSE-2.0\n",
              "//\n",
              "// Unless required by applicable law or agreed to in writing, software\n",
              "// distributed under the License is distributed on an \"AS IS\" BASIS,\n",
              "// WITHOUT WARRANTIES OR CONDITIONS OF ANY KIND, either express or implied.\n",
              "// See the License for the specific language governing permissions and\n",
              "// limitations under the License.\n",
              "\n",
              "/**\n",
              " * @fileoverview Helpers for google.colab Python module.\n",
              " */\n",
              "(function(scope) {\n",
              "function span(text, styleAttributes = {}) {\n",
              "  const element = document.createElement('span');\n",
              "  element.textContent = text;\n",
              "  for (const key of Object.keys(styleAttributes)) {\n",
              "    element.style[key] = styleAttributes[key];\n",
              "  }\n",
              "  return element;\n",
              "}\n",
              "\n",
              "// Max number of bytes which will be uploaded at a time.\n",
              "const MAX_PAYLOAD_SIZE = 100 * 1024;\n",
              "\n",
              "function _uploadFiles(inputId, outputId) {\n",
              "  const steps = uploadFilesStep(inputId, outputId);\n",
              "  const outputElement = document.getElementById(outputId);\n",
              "  // Cache steps on the outputElement to make it available for the next call\n",
              "  // to uploadFilesContinue from Python.\n",
              "  outputElement.steps = steps;\n",
              "\n",
              "  return _uploadFilesContinue(outputId);\n",
              "}\n",
              "\n",
              "// This is roughly an async generator (not supported in the browser yet),\n",
              "// where there are multiple asynchronous steps and the Python side is going\n",
              "// to poll for completion of each step.\n",
              "// This uses a Promise to block the python side on completion of each step,\n",
              "// then passes the result of the previous step as the input to the next step.\n",
              "function _uploadFilesContinue(outputId) {\n",
              "  const outputElement = document.getElementById(outputId);\n",
              "  const steps = outputElement.steps;\n",
              "\n",
              "  const next = steps.next(outputElement.lastPromiseValue);\n",
              "  return Promise.resolve(next.value.promise).then((value) => {\n",
              "    // Cache the last promise value to make it available to the next\n",
              "    // step of the generator.\n",
              "    outputElement.lastPromiseValue = value;\n",
              "    return next.value.response;\n",
              "  });\n",
              "}\n",
              "\n",
              "/**\n",
              " * Generator function which is called between each async step of the upload\n",
              " * process.\n",
              " * @param {string} inputId Element ID of the input file picker element.\n",
              " * @param {string} outputId Element ID of the output display.\n",
              " * @return {!Iterable<!Object>} Iterable of next steps.\n",
              " */\n",
              "function* uploadFilesStep(inputId, outputId) {\n",
              "  const inputElement = document.getElementById(inputId);\n",
              "  inputElement.disabled = false;\n",
              "\n",
              "  const outputElement = document.getElementById(outputId);\n",
              "  outputElement.innerHTML = '';\n",
              "\n",
              "  const pickedPromise = new Promise((resolve) => {\n",
              "    inputElement.addEventListener('change', (e) => {\n",
              "      resolve(e.target.files);\n",
              "    });\n",
              "  });\n",
              "\n",
              "  const cancel = document.createElement('button');\n",
              "  inputElement.parentElement.appendChild(cancel);\n",
              "  cancel.textContent = 'Cancel upload';\n",
              "  const cancelPromise = new Promise((resolve) => {\n",
              "    cancel.onclick = () => {\n",
              "      resolve(null);\n",
              "    };\n",
              "  });\n",
              "\n",
              "  // Wait for the user to pick the files.\n",
              "  const files = yield {\n",
              "    promise: Promise.race([pickedPromise, cancelPromise]),\n",
              "    response: {\n",
              "      action: 'starting',\n",
              "    }\n",
              "  };\n",
              "\n",
              "  cancel.remove();\n",
              "\n",
              "  // Disable the input element since further picks are not allowed.\n",
              "  inputElement.disabled = true;\n",
              "\n",
              "  if (!files) {\n",
              "    return {\n",
              "      response: {\n",
              "        action: 'complete',\n",
              "      }\n",
              "    };\n",
              "  }\n",
              "\n",
              "  for (const file of files) {\n",
              "    const li = document.createElement('li');\n",
              "    li.append(span(file.name, {fontWeight: 'bold'}));\n",
              "    li.append(span(\n",
              "        `(${file.type || 'n/a'}) - ${file.size} bytes, ` +\n",
              "        `last modified: ${\n",
              "            file.lastModifiedDate ? file.lastModifiedDate.toLocaleDateString() :\n",
              "                                    'n/a'} - `));\n",
              "    const percent = span('0% done');\n",
              "    li.appendChild(percent);\n",
              "\n",
              "    outputElement.appendChild(li);\n",
              "\n",
              "    const fileDataPromise = new Promise((resolve) => {\n",
              "      const reader = new FileReader();\n",
              "      reader.onload = (e) => {\n",
              "        resolve(e.target.result);\n",
              "      };\n",
              "      reader.readAsArrayBuffer(file);\n",
              "    });\n",
              "    // Wait for the data to be ready.\n",
              "    let fileData = yield {\n",
              "      promise: fileDataPromise,\n",
              "      response: {\n",
              "        action: 'continue',\n",
              "      }\n",
              "    };\n",
              "\n",
              "    // Use a chunked sending to avoid message size limits. See b/62115660.\n",
              "    let position = 0;\n",
              "    do {\n",
              "      const length = Math.min(fileData.byteLength - position, MAX_PAYLOAD_SIZE);\n",
              "      const chunk = new Uint8Array(fileData, position, length);\n",
              "      position += length;\n",
              "\n",
              "      const base64 = btoa(String.fromCharCode.apply(null, chunk));\n",
              "      yield {\n",
              "        response: {\n",
              "          action: 'append',\n",
              "          file: file.name,\n",
              "          data: base64,\n",
              "        },\n",
              "      };\n",
              "\n",
              "      let percentDone = fileData.byteLength === 0 ?\n",
              "          100 :\n",
              "          Math.round((position / fileData.byteLength) * 100);\n",
              "      percent.textContent = `${percentDone}% done`;\n",
              "\n",
              "    } while (position < fileData.byteLength);\n",
              "  }\n",
              "\n",
              "  // All done.\n",
              "  yield {\n",
              "    response: {\n",
              "      action: 'complete',\n",
              "    }\n",
              "  };\n",
              "}\n",
              "\n",
              "scope.google = scope.google || {};\n",
              "scope.google.colab = scope.google.colab || {};\n",
              "scope.google.colab._files = {\n",
              "  _uploadFiles,\n",
              "  _uploadFilesContinue,\n",
              "};\n",
              "})(self);\n",
              "</script> "
            ],
            "text/plain": [
              "<IPython.core.display.HTML object>"
            ]
          },
          "metadata": {}
        },
        {
          "output_type": "stream",
          "name": "stdout",
          "text": [
            "Saving coupons.csv to coupons.csv\n",
            "       destination  passanger weather  ...  direction_same direction_opp  Y\n",
            "0  No Urgent Place      Alone   Sunny  ...               0             1  1\n",
            "1  No Urgent Place  Friend(s)   Sunny  ...               0             1  0\n",
            "2  No Urgent Place  Friend(s)   Sunny  ...               0             1  1\n",
            "3  No Urgent Place  Friend(s)   Sunny  ...               0             1  0\n",
            "4  No Urgent Place  Friend(s)   Sunny  ...               0             1  0\n",
            "\n",
            "[5 rows x 26 columns]\n"
          ]
        },
        {
          "output_type": "error",
          "ename": "FileNotFoundError",
          "evalue": "[Errno 2] No such file or directory: 'data/coupons.csv'",
          "traceback": [
            "\u001b[0;31m---------------------------------------------------------------------------\u001b[0m",
            "\u001b[0;31mFileNotFoundError\u001b[0m                         Traceback (most recent call last)",
            "\u001b[0;32m<ipython-input-1-a7a037e63a1a>\u001b[0m in \u001b[0;36m<cell line: 0>\u001b[0;34m()\u001b[0m\n\u001b[1;32m      5\u001b[0m \u001b[0mdf\u001b[0m \u001b[0;34m=\u001b[0m \u001b[0mpd\u001b[0m\u001b[0;34m.\u001b[0m\u001b[0mread_csv\u001b[0m\u001b[0;34m(\u001b[0m\u001b[0;34m'coupons.csv'\u001b[0m\u001b[0;34m)\u001b[0m \u001b[0;31m# Use the filename directly after uploading\u001b[0m\u001b[0;34m\u001b[0m\u001b[0;34m\u001b[0m\u001b[0m\n\u001b[1;32m      6\u001b[0m \u001b[0mprint\u001b[0m\u001b[0;34m(\u001b[0m\u001b[0mdf\u001b[0m\u001b[0;34m.\u001b[0m\u001b[0mhead\u001b[0m\u001b[0;34m(\u001b[0m\u001b[0;34m)\u001b[0m\u001b[0;34m)\u001b[0m\u001b[0;34m\u001b[0m\u001b[0;34m\u001b[0m\u001b[0m\n\u001b[0;32m----> 7\u001b[0;31m \u001b[0mdata\u001b[0m \u001b[0;34m=\u001b[0m \u001b[0mpd\u001b[0m\u001b[0;34m.\u001b[0m\u001b[0mread_csv\u001b[0m\u001b[0;34m(\u001b[0m\u001b[0;34m'data/coupons.csv'\u001b[0m\u001b[0;34m)\u001b[0m\u001b[0;34m\u001b[0m\u001b[0;34m\u001b[0m\u001b[0m\n\u001b[0m",
            "\u001b[0;32m/export/hda3/borglet/remote_hdd_fs_dirs/0.colab_kernel_pool_revshare-explainer_1.kernel.youtube-financial-revshare-explainer.27742145158574.14b334fb3717c109/mount/server/explainer_notebook.par/google3/third_party/py/pandas/io/parsers/readers.py\u001b[0m in \u001b[0;36mread_csv\u001b[0;34m(filepath_or_buffer, sep, delimiter, header, names, index_col, usecols, dtype, engine, converters, true_values, false_values, skipinitialspace, skiprows, skipfooter, nrows, na_values, keep_default_na, na_filter, verbose, skip_blank_lines, parse_dates, infer_datetime_format, keep_date_col, date_parser, date_format, dayfirst, cache_dates, iterator, chunksize, compression, thousands, decimal, lineterminator, quotechar, quoting, doublequote, escapechar, comment, encoding, encoding_errors, dialect, on_bad_lines, delim_whitespace, low_memory, memory_map, float_precision, storage_options, dtype_backend)\u001b[0m\n\u001b[1;32m   1024\u001b[0m     \u001b[0mkwds\u001b[0m\u001b[0;34m.\u001b[0m\u001b[0mupdate\u001b[0m\u001b[0;34m(\u001b[0m\u001b[0mkwds_defaults\u001b[0m\u001b[0;34m)\u001b[0m\u001b[0;34m\u001b[0m\u001b[0;34m\u001b[0m\u001b[0m\n\u001b[1;32m   1025\u001b[0m \u001b[0;34m\u001b[0m\u001b[0m\n\u001b[0;32m-> 1026\u001b[0;31m     \u001b[0;32mreturn\u001b[0m \u001b[0m_read\u001b[0m\u001b[0;34m(\u001b[0m\u001b[0mfilepath_or_buffer\u001b[0m\u001b[0;34m,\u001b[0m \u001b[0mkwds\u001b[0m\u001b[0;34m)\u001b[0m\u001b[0;34m\u001b[0m\u001b[0;34m\u001b[0m\u001b[0m\n\u001b[0m\u001b[1;32m   1027\u001b[0m \u001b[0;34m\u001b[0m\u001b[0m\n\u001b[1;32m   1028\u001b[0m \u001b[0;34m\u001b[0m\u001b[0m\n",
            "\u001b[0;32m/export/hda3/borglet/remote_hdd_fs_dirs/0.colab_kernel_pool_revshare-explainer_1.kernel.youtube-financial-revshare-explainer.27742145158574.14b334fb3717c109/mount/server/explainer_notebook.par/google3/third_party/py/pandas/io/parsers/readers.py\u001b[0m in \u001b[0;36m_read\u001b[0;34m(filepath_or_buffer, kwds)\u001b[0m\n\u001b[1;32m    618\u001b[0m \u001b[0;34m\u001b[0m\u001b[0m\n\u001b[1;32m    619\u001b[0m     \u001b[0;31m# Create the parser.\u001b[0m\u001b[0;34m\u001b[0m\u001b[0;34m\u001b[0m\u001b[0m\n\u001b[0;32m--> 620\u001b[0;31m     \u001b[0mparser\u001b[0m \u001b[0;34m=\u001b[0m \u001b[0mTextFileReader\u001b[0m\u001b[0;34m(\u001b[0m\u001b[0mfilepath_or_buffer\u001b[0m\u001b[0;34m,\u001b[0m \u001b[0;34m**\u001b[0m\u001b[0mkwds\u001b[0m\u001b[0;34m)\u001b[0m\u001b[0;34m\u001b[0m\u001b[0;34m\u001b[0m\u001b[0m\n\u001b[0m\u001b[1;32m    621\u001b[0m \u001b[0;34m\u001b[0m\u001b[0m\n\u001b[1;32m    622\u001b[0m     \u001b[0;32mif\u001b[0m \u001b[0mchunksize\u001b[0m \u001b[0;32mor\u001b[0m \u001b[0miterator\u001b[0m\u001b[0;34m:\u001b[0m\u001b[0;34m\u001b[0m\u001b[0;34m\u001b[0m\u001b[0m\n",
            "\u001b[0;32m/export/hda3/borglet/remote_hdd_fs_dirs/0.colab_kernel_pool_revshare-explainer_1.kernel.youtube-financial-revshare-explainer.27742145158574.14b334fb3717c109/mount/server/explainer_notebook.par/google3/third_party/py/pandas/io/parsers/readers.py\u001b[0m in \u001b[0;36m__init__\u001b[0;34m(self, f, engine, **kwds)\u001b[0m\n\u001b[1;32m   1618\u001b[0m \u001b[0;34m\u001b[0m\u001b[0m\n\u001b[1;32m   1619\u001b[0m         \u001b[0mself\u001b[0m\u001b[0;34m.\u001b[0m\u001b[0mhandles\u001b[0m\u001b[0;34m:\u001b[0m \u001b[0mIOHandles\u001b[0m \u001b[0;34m|\u001b[0m \u001b[0;32mNone\u001b[0m \u001b[0;34m=\u001b[0m \u001b[0;32mNone\u001b[0m\u001b[0;34m\u001b[0m\u001b[0;34m\u001b[0m\u001b[0m\n\u001b[0;32m-> 1620\u001b[0;31m         \u001b[0mself\u001b[0m\u001b[0;34m.\u001b[0m\u001b[0m_engine\u001b[0m \u001b[0;34m=\u001b[0m \u001b[0mself\u001b[0m\u001b[0;34m.\u001b[0m\u001b[0m_make_engine\u001b[0m\u001b[0;34m(\u001b[0m\u001b[0mf\u001b[0m\u001b[0;34m,\u001b[0m \u001b[0mself\u001b[0m\u001b[0;34m.\u001b[0m\u001b[0mengine\u001b[0m\u001b[0;34m)\u001b[0m\u001b[0;34m\u001b[0m\u001b[0;34m\u001b[0m\u001b[0m\n\u001b[0m\u001b[1;32m   1621\u001b[0m \u001b[0;34m\u001b[0m\u001b[0m\n\u001b[1;32m   1622\u001b[0m     \u001b[0;32mdef\u001b[0m \u001b[0mclose\u001b[0m\u001b[0;34m(\u001b[0m\u001b[0mself\u001b[0m\u001b[0;34m)\u001b[0m \u001b[0;34m->\u001b[0m \u001b[0;32mNone\u001b[0m\u001b[0;34m:\u001b[0m\u001b[0;34m\u001b[0m\u001b[0;34m\u001b[0m\u001b[0m\n",
            "\u001b[0;32m/export/hda3/borglet/remote_hdd_fs_dirs/0.colab_kernel_pool_revshare-explainer_1.kernel.youtube-financial-revshare-explainer.27742145158574.14b334fb3717c109/mount/server/explainer_notebook.par/google3/third_party/py/pandas/io/parsers/readers.py\u001b[0m in \u001b[0;36m_make_engine\u001b[0;34m(self, f, engine)\u001b[0m\n\u001b[1;32m   1878\u001b[0m                 \u001b[0;32mif\u001b[0m \u001b[0;34m\"b\"\u001b[0m \u001b[0;32mnot\u001b[0m \u001b[0;32min\u001b[0m \u001b[0mmode\u001b[0m\u001b[0;34m:\u001b[0m\u001b[0;34m\u001b[0m\u001b[0;34m\u001b[0m\u001b[0m\n\u001b[1;32m   1879\u001b[0m                     \u001b[0mmode\u001b[0m \u001b[0;34m+=\u001b[0m \u001b[0;34m\"b\"\u001b[0m\u001b[0;34m\u001b[0m\u001b[0;34m\u001b[0m\u001b[0m\n\u001b[0;32m-> 1880\u001b[0;31m             self.handles = get_handle(\n\u001b[0m\u001b[1;32m   1881\u001b[0m                 \u001b[0mf\u001b[0m\u001b[0;34m,\u001b[0m\u001b[0;34m\u001b[0m\u001b[0;34m\u001b[0m\u001b[0m\n\u001b[1;32m   1882\u001b[0m                 \u001b[0mmode\u001b[0m\u001b[0;34m,\u001b[0m\u001b[0;34m\u001b[0m\u001b[0;34m\u001b[0m\u001b[0m\n",
            "\u001b[0;32m/export/hda3/borglet/remote_hdd_fs_dirs/0.colab_kernel_pool_revshare-explainer_1.kernel.youtube-financial-revshare-explainer.27742145158574.14b334fb3717c109/mount/server/explainer_notebook.par/google3/third_party/py/pandas/io/common.py\u001b[0m in \u001b[0;36mget_handle\u001b[0;34m(path_or_buf, mode, encoding, compression, memory_map, is_text, errors, storage_options)\u001b[0m\n\u001b[1;32m    881\u001b[0m         \u001b[0;32mif\u001b[0m \u001b[0mioargs\u001b[0m\u001b[0;34m.\u001b[0m\u001b[0mencoding\u001b[0m \u001b[0;32mand\u001b[0m \u001b[0;34m\"b\"\u001b[0m \u001b[0;32mnot\u001b[0m \u001b[0;32min\u001b[0m \u001b[0mioargs\u001b[0m\u001b[0;34m.\u001b[0m\u001b[0mmode\u001b[0m\u001b[0;34m:\u001b[0m\u001b[0;34m\u001b[0m\u001b[0;34m\u001b[0m\u001b[0m\n\u001b[1;32m    882\u001b[0m             \u001b[0;31m# Encoding\u001b[0m\u001b[0;34m\u001b[0m\u001b[0;34m\u001b[0m\u001b[0m\n\u001b[0;32m--> 883\u001b[0;31m             handle = open(\n\u001b[0m\u001b[1;32m    884\u001b[0m                 \u001b[0mhandle\u001b[0m\u001b[0;34m,\u001b[0m\u001b[0;34m\u001b[0m\u001b[0;34m\u001b[0m\u001b[0m\n\u001b[1;32m    885\u001b[0m                 \u001b[0mioargs\u001b[0m\u001b[0;34m.\u001b[0m\u001b[0mmode\u001b[0m\u001b[0;34m,\u001b[0m\u001b[0;34m\u001b[0m\u001b[0;34m\u001b[0m\u001b[0m\n",
            "\u001b[0;31mFileNotFoundError\u001b[0m: [Errno 2] No such file or directory: 'data/coupons.csv'"
          ],
          "debug": {
            "argv": [
              "/export/hda3/borglet/remote_hdd_fs_dirs/0.colab_kernel_pool_revshare-explainer_1.kernel.youtube-financial-revshare-explainer.27742145158574.14b334fb3717c109/mount/server/explainer_notebook.par",
              "kernel",
              "-f",
              "/tmp/ipy-be-8kxnty4c/profile_colab/security/kernel-8d5bdd02-5dbe-4bce-9ffa-a52641226fdd.json",
              "--profile-dir=/tmp/ipy-be-8kxnty4c/profile_colab",
              "--profile=colab",
              "--ipython-dir=/tmp/ipy-be-75zm03_h",
              "--no-secure"
            ],
            "build": "Built on Fri May 16 10:44:01 2025 (1747417441)\nBuilt by rbex-enqueue-targets@lmkq21.prod.google.com:/google/src/cloud/buildrabbit-username/buildrabbit-client/google3\nBuilt as //video/youtube/logs/financial/revshare/ownership_templates/explainer/python:explainer_notebook\nBuild ID: 8b6d455d-fbc4-4eed-8e34-ad68266364cf\nBuilt from changelist 759665259 in a mint client based on //depot/branches/youtube_revshare_and_payments_release_branch/757041112.1/google3\nBuild label: yt_revenue_payments_20250510_000_RC3\nBuild platform: gcc-4.X.Y-crosstool-v18-llvm-grtev4-k8.k8\nBuild tool: Blaze, release blaze-2025.04.26-1 (mainline @751384015)\nBuilt with par options [\"--compress\", \"--compress_level=6\", \"--compress\"]\nCurrently running under Python 3.12.8: embedded.\n",
            "user": "youtube-financial-revshare-explainer"
          }
        }
      ],
      "source": [
        "from google.colab import files\n",
        "uploaded = files.upload() # A button will appear for you to select and upload 'coupons.csv'\n",
        "\n",
        "import pandas as pd\n",
        "df = pd.read_csv('coupons.csv') # Use the filename directly after uploading\n",
        "print(df.head())\n",
        "data = pd.read_csv('data/coupons.csv')"
      ]
    },
    {
      "cell_type": "code",
      "execution_count": null,
      "metadata": {
        "id": "TXofQ_DF_qRH",
        "outputId": "2fc96a2c-1112-4b54-f24f-dbb9bc88abfb"
      },
      "outputs": [
        {
          "data": {
            "text/html": [
              "<div>\n",
              "<style scoped>\n",
              "    .dataframe tbody tr th:only-of-type {\n",
              "        vertical-align: middle;\n",
              "    }\n",
              "\n",
              "    .dataframe tbody tr th {\n",
              "        vertical-align: top;\n",
              "    }\n",
              "\n",
              "    .dataframe thead th {\n",
              "        text-align: right;\n",
              "    }\n",
              "</style>\n",
              "<table border=\"1\" class=\"dataframe\">\n",
              "  <thead>\n",
              "    <tr style=\"text-align: right;\">\n",
              "      <th></th>\n",
              "      <th>destination</th>\n",
              "      <th>passanger</th>\n",
              "      <th>weather</th>\n",
              "      <th>temperature</th>\n",
              "      <th>time</th>\n",
              "      <th>coupon</th>\n",
              "      <th>expiration</th>\n",
              "      <th>gender</th>\n",
              "      <th>age</th>\n",
              "      <th>maritalStatus</th>\n",
              "      <th>...</th>\n",
              "      <th>CoffeeHouse</th>\n",
              "      <th>CarryAway</th>\n",
              "      <th>RestaurantLessThan20</th>\n",
              "      <th>Restaurant20To50</th>\n",
              "      <th>toCoupon_GEQ5min</th>\n",
              "      <th>toCoupon_GEQ15min</th>\n",
              "      <th>toCoupon_GEQ25min</th>\n",
              "      <th>direction_same</th>\n",
              "      <th>direction_opp</th>\n",
              "      <th>Y</th>\n",
              "    </tr>\n",
              "  </thead>\n",
              "  <tbody>\n",
              "    <tr>\n",
              "      <th>0</th>\n",
              "      <td>No Urgent Place</td>\n",
              "      <td>Alone</td>\n",
              "      <td>Sunny</td>\n",
              "      <td>55</td>\n",
              "      <td>2PM</td>\n",
              "      <td>Restaurant(&lt;20)</td>\n",
              "      <td>1d</td>\n",
              "      <td>Female</td>\n",
              "      <td>21</td>\n",
              "      <td>Unmarried partner</td>\n",
              "      <td>...</td>\n",
              "      <td>never</td>\n",
              "      <td>NaN</td>\n",
              "      <td>4~8</td>\n",
              "      <td>1~3</td>\n",
              "      <td>1</td>\n",
              "      <td>0</td>\n",
              "      <td>0</td>\n",
              "      <td>0</td>\n",
              "      <td>1</td>\n",
              "      <td>1</td>\n",
              "    </tr>\n",
              "    <tr>\n",
              "      <th>1</th>\n",
              "      <td>No Urgent Place</td>\n",
              "      <td>Friend(s)</td>\n",
              "      <td>Sunny</td>\n",
              "      <td>80</td>\n",
              "      <td>10AM</td>\n",
              "      <td>Coffee House</td>\n",
              "      <td>2h</td>\n",
              "      <td>Female</td>\n",
              "      <td>21</td>\n",
              "      <td>Unmarried partner</td>\n",
              "      <td>...</td>\n",
              "      <td>never</td>\n",
              "      <td>NaN</td>\n",
              "      <td>4~8</td>\n",
              "      <td>1~3</td>\n",
              "      <td>1</td>\n",
              "      <td>0</td>\n",
              "      <td>0</td>\n",
              "      <td>0</td>\n",
              "      <td>1</td>\n",
              "      <td>0</td>\n",
              "    </tr>\n",
              "    <tr>\n",
              "      <th>2</th>\n",
              "      <td>No Urgent Place</td>\n",
              "      <td>Friend(s)</td>\n",
              "      <td>Sunny</td>\n",
              "      <td>80</td>\n",
              "      <td>10AM</td>\n",
              "      <td>Carry out &amp; Take away</td>\n",
              "      <td>2h</td>\n",
              "      <td>Female</td>\n",
              "      <td>21</td>\n",
              "      <td>Unmarried partner</td>\n",
              "      <td>...</td>\n",
              "      <td>never</td>\n",
              "      <td>NaN</td>\n",
              "      <td>4~8</td>\n",
              "      <td>1~3</td>\n",
              "      <td>1</td>\n",
              "      <td>1</td>\n",
              "      <td>0</td>\n",
              "      <td>0</td>\n",
              "      <td>1</td>\n",
              "      <td>1</td>\n",
              "    </tr>\n",
              "    <tr>\n",
              "      <th>3</th>\n",
              "      <td>No Urgent Place</td>\n",
              "      <td>Friend(s)</td>\n",
              "      <td>Sunny</td>\n",
              "      <td>80</td>\n",
              "      <td>2PM</td>\n",
              "      <td>Coffee House</td>\n",
              "      <td>2h</td>\n",
              "      <td>Female</td>\n",
              "      <td>21</td>\n",
              "      <td>Unmarried partner</td>\n",
              "      <td>...</td>\n",
              "      <td>never</td>\n",
              "      <td>NaN</td>\n",
              "      <td>4~8</td>\n",
              "      <td>1~3</td>\n",
              "      <td>1</td>\n",
              "      <td>1</td>\n",
              "      <td>0</td>\n",
              "      <td>0</td>\n",
              "      <td>1</td>\n",
              "      <td>0</td>\n",
              "    </tr>\n",
              "    <tr>\n",
              "      <th>4</th>\n",
              "      <td>No Urgent Place</td>\n",
              "      <td>Friend(s)</td>\n",
              "      <td>Sunny</td>\n",
              "      <td>80</td>\n",
              "      <td>2PM</td>\n",
              "      <td>Coffee House</td>\n",
              "      <td>1d</td>\n",
              "      <td>Female</td>\n",
              "      <td>21</td>\n",
              "      <td>Unmarried partner</td>\n",
              "      <td>...</td>\n",
              "      <td>never</td>\n",
              "      <td>NaN</td>\n",
              "      <td>4~8</td>\n",
              "      <td>1~3</td>\n",
              "      <td>1</td>\n",
              "      <td>1</td>\n",
              "      <td>0</td>\n",
              "      <td>0</td>\n",
              "      <td>1</td>\n",
              "      <td>0</td>\n",
              "    </tr>\n",
              "  </tbody>\n",
              "</table>\n",
              "<p>5 rows × 26 columns</p>\n",
              "</div>"
            ],
            "text/plain": [
              "       destination  passanger weather  temperature  time  \\\n",
              "0  No Urgent Place      Alone   Sunny           55   2PM   \n",
              "1  No Urgent Place  Friend(s)   Sunny           80  10AM   \n",
              "2  No Urgent Place  Friend(s)   Sunny           80  10AM   \n",
              "3  No Urgent Place  Friend(s)   Sunny           80   2PM   \n",
              "4  No Urgent Place  Friend(s)   Sunny           80   2PM   \n",
              "\n",
              "                  coupon expiration  gender age      maritalStatus  ...  \\\n",
              "0        Restaurant(<20)         1d  Female  21  Unmarried partner  ...   \n",
              "1           Coffee House         2h  Female  21  Unmarried partner  ...   \n",
              "2  Carry out & Take away         2h  Female  21  Unmarried partner  ...   \n",
              "3           Coffee House         2h  Female  21  Unmarried partner  ...   \n",
              "4           Coffee House         1d  Female  21  Unmarried partner  ...   \n",
              "\n",
              "   CoffeeHouse CarryAway RestaurantLessThan20 Restaurant20To50  \\\n",
              "0        never       NaN                  4~8              1~3   \n",
              "1        never       NaN                  4~8              1~3   \n",
              "2        never       NaN                  4~8              1~3   \n",
              "3        never       NaN                  4~8              1~3   \n",
              "4        never       NaN                  4~8              1~3   \n",
              "\n",
              "  toCoupon_GEQ5min toCoupon_GEQ15min toCoupon_GEQ25min direction_same  \\\n",
              "0                1                 0                 0              0   \n",
              "1                1                 0                 0              0   \n",
              "2                1                 1                 0              0   \n",
              "3                1                 1                 0              0   \n",
              "4                1                 1                 0              0   \n",
              "\n",
              "  direction_opp  Y  \n",
              "0             1  1  \n",
              "1             1  0  \n",
              "2             1  1  \n",
              "3             1  0  \n",
              "4             1  0  \n",
              "\n",
              "[5 rows x 26 columns]"
            ]
          },
          "execution_count": 5,
          "metadata": {},
          "output_type": "execute_result"
        }
      ],
      "source": [
        "data.head()"
      ]
    },
    {
      "cell_type": "markdown",
      "metadata": {
        "id": "GcDs78ZH_qRH"
      },
      "source": [
        "[link text](https://)2. Investigate the dataset for missing or problematic data."
      ]
    },
    {
      "cell_type": "code",
      "execution_count": 14,
      "metadata": {
        "id": "6CwL6oWj_qRH",
        "colab": {
          "height": 1000
        },
        "executionInfo": {
          "status": "ok",
          "timestamp": 1747635569249,
          "user_tz": 420,
          "elapsed": 823,
          "user": {
            "displayName": "Anik Ghosh",
            "userId": "05892729527457108597"
          }
        },
        "outputId": "e0549a54-5c8c-454b-b8dc-75fbf38fb68c"
      },
      "outputs": [
        {
          "output_type": "stream",
          "name": "stdout",
          "text": [
            "--- Initial DataFrame Information ---\n",
            "<class 'pandas.core.frame.DataFrame'>\n",
            "RangeIndex: 12684 entries, 0 to 12683\n",
            "Data columns (total 25 columns):\n",
            " #   Column                Non-Null Count  Dtype \n",
            "---  ------                --------------  ----- \n",
            " 0   destination           12684 non-null  object\n",
            " 1   passanger             12684 non-null  object\n",
            " 2   weather               12684 non-null  object\n",
            " 3   temperature           12684 non-null  int64 \n",
            " 4   time                  12684 non-null  object\n",
            " 5   coupon                12684 non-null  object\n",
            " 6   expiration            12684 non-null  object\n",
            " 7   gender                12684 non-null  object\n",
            " 8   age                   12684 non-null  object\n",
            " 9   maritalStatus         12684 non-null  object\n",
            " 10  has_children          12684 non-null  int64 \n",
            " 11  education             12684 non-null  object\n",
            " 12  occupation            12684 non-null  object\n",
            " 13  income                12684 non-null  object\n",
            " 14  Bar                   12684 non-null  object\n",
            " 15  CoffeeHouse           12684 non-null  object\n",
            " 16  CarryAway             12684 non-null  object\n",
            " 17  RestaurantLessThan20  12684 non-null  object\n",
            " 18  Restaurant20To50      12684 non-null  object\n",
            " 19  toCoupon_GEQ5min      12684 non-null  int64 \n",
            " 20  toCoupon_GEQ15min     12684 non-null  int64 \n",
            " 21  toCoupon_GEQ25min     12684 non-null  int64 \n",
            " 22  direction_same        12684 non-null  int64 \n",
            " 23  direction_opp         12684 non-null  int64 \n",
            " 24  Y                     12684 non-null  int64 \n",
            "dtypes: int64(8), object(17)\n",
            "memory usage: 2.4+ MB\n",
            "\n",
            "--- Count of Missing Values per Column ---\n",
            "Series([], dtype: int64)\n",
            "\n",
            "--- Percentage of Missing Values per Column ---\n",
            "Series([], dtype: float64)\n"
          ]
        },
        {
          "output_type": "display_data",
          "data": {
            "image/png": "[encoded data removed]",
            "text/plain": [
              "<Figure size 864x432 with 1 Axes>"
            ]
          },
          "metadata": {
            "image/png": {
              "height": 477,
              "width": 722
            },
            "needs_background": "light"
          }
        },
        {
          "output_type": "stream",
          "name": "stdout",
          "text": [
            "\n",
            "--- Descriptive Statistics for Numerical Columns ---\n",
            "        temperature  has_children  ...  direction_opp             Y\n",
            "count  12684.000000  12684.000000  ...   12684.000000  12684.000000\n",
            "mean      63.301798      0.414144  ...       0.785241      0.568433\n",
            "std       19.154486      0.492593  ...       0.410671      0.495314\n",
            "min       30.000000      0.000000  ...       0.000000      0.000000\n",
            "25%       55.000000      0.000000  ...       1.000000      0.000000\n",
            "50%       80.000000      0.000000  ...       1.000000      1.000000\n",
            "75%       80.000000      1.000000  ...       1.000000      1.000000\n",
            "max       80.000000      1.000000  ...       1.000000      1.000000\n",
            "\n",
            "[8 rows x 8 columns]\n",
            "\n",
            "--- Descriptive Statistics for Categorical/Object Columns ---\n",
            "            destination passanger  ... RestaurantLessThan20 Restaurant20To50\n",
            "count             12684     12684  ...                12684            12684\n",
            "unique                3         4  ...                    5                5\n",
            "top     No Urgent Place     Alone  ...                  1~3            less1\n",
            "freq               6283      7305  ...                 5506             6266\n",
            "\n",
            "[4 rows x 17 columns]\n",
            "\n",
            "--- Unique Values for Key Categorical Columns (and potential issues) ---\n",
            "\n",
            "Column 'destination' unique values:\n",
            "['No Urgent Place' 'Home' 'Work']\n",
            "\n",
            "Column 'passanger' unique values:\n",
            "['Alone' 'Friend(s)' 'Kid(s)' 'Partner']\n",
            "\n",
            "Column 'weather' unique values:\n",
            "['Sunny' 'Rainy' 'Snowy']\n",
            "\n",
            "Column 'time' unique values:\n",
            "['2PM' '10AM' '6PM' '7AM' '10PM']\n",
            "\n",
            "Column 'coupon' unique values:\n",
            "['Restaurant(<20)' 'Coffee House' 'Carry out & Take away' 'Bar'\n",
            " 'Restaurant(20-50)']\n",
            "\n",
            "Column 'expiration' unique values:\n",
            "['1d' '2h']\n",
            "\n",
            "Column 'gender' unique values:\n",
            "['Female' 'Male']\n",
            "\n",
            "Column 'age' unique values:\n",
            "['21' '46' '26' '31' '41' '50plus' '36' 'below21']\n",
            "\n",
            "Column 'maritalStatus' unique values:\n",
            "['Unmarried partner' 'Single' 'Married partner' 'Divorced' 'Widowed']\n",
            "\n",
            "Column 'education' unique values:\n",
            "['Some college - no degree' 'Bachelors degree' 'Associates degree'\n",
            " 'High School Graduate' 'Graduate degree (Masters or Doctorate)'\n",
            " 'Some High School']\n",
            "\n",
            "Column 'occupation' unique values:\n",
            "['Unemployed' 'Architecture & Engineering' 'Student'\n",
            " 'Education&Training&Library' 'Healthcare Support'\n",
            " 'Healthcare Practitioners & Technical' 'Sales & Related' 'Management'\n",
            " 'Arts Design Entertainment Sports & Media' 'Computer & Mathematical'\n",
            " 'Life Physical Social Science' 'Personal Care & Service'\n",
            " 'Community & Social Services' 'Office & Administrative Support'\n",
            " 'Construction & Extraction' 'Legal' 'Retired'\n",
            " 'Installation Maintenance & Repair' 'Transportation & Material Moving'\n",
            " 'Business & Financial' 'Protective Service'\n",
            " 'Food Preparation & Serving Related' 'Production Occupations'\n",
            " 'Building & Grounds Cleaning & Maintenance' 'Farming Fishing & Forestry']\n",
            "\n",
            "Column 'income' unique values:\n",
            "['$37500 - $49999' '$62500 - $74999' '$12500 - $24999' '$75000 - $87499'\n",
            " '$50000 - $62499' '$25000 - $37499' '$100000 or More' '$87500 - $99999'\n",
            " 'Less than $12500']\n",
            "\n",
            "Column 'Bar' unique values:\n",
            "['never' 'less1' '1~3' 'gt8' '4~8']\n",
            "\n",
            "Column 'CoffeeHouse' unique values:\n",
            "['never' 'less1' '4~8' '1~3' 'gt8']\n",
            "\n",
            "Column 'CarryAway' unique values:\n",
            "['1~3' '4~8' 'gt8' 'less1' 'never']\n",
            "\n",
            "Column 'RestaurantLessThan20' unique values:\n",
            "['4~8' '1~3' 'less1' 'gt8' 'never']\n",
            "\n",
            "Column 'Restaurant20To50' unique values:\n",
            "['1~3' 'less1' 'never' 'gt8' '4~8']\n",
            "\n",
            "--- Distribution of Coupon Acceptance (Y) ---\n",
            "Y\n",
            "1    7210\n",
            "0    5474\n",
            "Name: count, dtype: int64\n",
            "Percentage of Acceptance (Y=1): 56.84%\n",
            "\n",
            "--- Distribution of Coupon Types ---\n",
            "coupon\n",
            "Coffee House             3996\n",
            "Restaurant(<20)          2786\n",
            "Carry out & Take away    2393\n",
            "Bar                      2017\n",
            "Restaurant(20-50)        1492\n",
            "Name: count, dtype: int64\n",
            "\n",
            "--- Distribution of Destination Types ---\n",
            "destination\n",
            "No Urgent Place    6283\n",
            "Home               3237\n",
            "Work               3164\n",
            "Name: count, dtype: int64\n",
            "\n",
            "--- Distribution of Time ---\n",
            "time\n",
            "6PM     3230\n",
            "7AM     3164\n",
            "10AM    2275\n",
            "2PM     2009\n",
            "10PM    2006\n",
            "Name: count, dtype: int64\n"
          ]
        }
      ],
      "source": [
        "import pandas as pd\n",
        "import numpy as np\n",
        "import matplotlib.pyplot as plt\n",
        "import seaborn as sns\n",
        "\n",
        "\n",
        "\n",
        "print(\"--- Initial DataFrame Information ---\")\n",
        "df.info()\n",
        "\n",
        "print(\"\\n--- Count of Missing Values per Column ---\")\n",
        "missing_counts = df.isnull().sum()\n",
        "print(missing_counts[missing_counts > 0])\n",
        "\n",
        "print(\"\\n--- Percentage of Missing Values per Column ---\")\n",
        "missing_percentages = (df.isnull().sum() / len(df)) * 100\n",
        "print(missing_percentages[missing_percentages > 0].sort_values(ascending=False))\n",
        "\n",
        "plt.figure(figsize=(12, 6))\n",
        "sns.heatmap(df.isnull(), cbar=False, cmap='viridis')\n",
        "plt.title('Missing Data Heatmap')\n",
        "plt.show()\n",
        "\n",
        "print(\"\\n--- Descriptive Statistics for Numerical Columns ---\")\n",
        "print(df.describe())\n",
        "\n",
        "print(\"\\n--- Descriptive Statistics for Categorical/Object Columns ---\")\n",
        "print(df.describe(include='object'))\n",
        "\n",
        "print(\"\\n--- Unique Values for Key Categorical Columns (and potential issues) ---\")\n",
        "for column in df.select_dtypes(include='object').columns:\n",
        "    if df[column].nunique() < 50:\n",
        "        print(f\"\\nColumn '{column}' unique values:\")\n",
        "        print(df[column].unique())\n",
        "    else:\n",
        "        print(f\"\\nColumn '{column}' has {df[column].nunique()} unique values (too many to list all).\")\n",
        "        print(f\"Top 10 values for '{column}':\")\n",
        "        print(df[column].value_counts().head(10))\n",
        "\n",
        "\n",
        "print(\"\\n--- Distribution of Coupon Acceptance (Y) ---\")\n",
        "print(df['Y'].value_counts())\n",
        "print(f\"Percentage of Acceptance (Y=1): {df['Y'].value_counts(normalize=True)[1]*100:.2f}%\")\n",
        "\n",
        "print(\"\\n--- Distribution of Coupon Types ---\")\n",
        "print(df['coupon'].value_counts())\n",
        "\n",
        "print(\"\\n--- Distribution of Destination Types ---\")\n",
        "print(df['destination'].value_counts())\n",
        "\n",
        "print(\"\\n--- Distribution of Time ---\")\n",
        "print(df['time'].value_counts())"
      ]
    },
    {
      "cell_type": "markdown",
      "metadata": {
        "id": "bSdVSpYB_qRH"
      },
      "source": [
        "3. Decide what to do about your missing data -- drop, replace, other...\n",
        "\n",
        "> Add blockquote\n",
        "\n"
      ]
    },
    {
      "cell_type": "code",
      "execution_count": 15,
      "metadata": {
        "id": "tyvoAC5F_qRI",
        "executionInfo": {
          "status": "ok",
          "timestamp": 1747635589649,
          "user_tz": 420,
          "elapsed": 106,
          "user": {
            "displayName": "Anik Ghosh",
            "userId": "05892729527457108597"
          }
        },
        "outputId": "b764e2c5-8d55-45af-e3ff-0405508f45e4"
      },
      "outputs": [
        {
          "output_type": "stream",
          "name": "stdout",
          "text": [
            "--- DataFrame shape BEFORE handling missing data ---\n",
            "(12684, 25)\n",
            "\n",
            "'car' column not found or already dropped.\n",
            "\n",
            "--- Imputing missing values in visit frequency columns ---\n",
            "Column 'Bar' has no missing values.\n",
            "Column 'CoffeeHouse' has no missing values.\n",
            "Column 'CarryAway' has no missing values.\n",
            "Column 'RestaurantLessThan20' has no missing values.\n",
            "Column 'Restaurant20To50' has no missing values.\n",
            "\n",
            "--- Missing values AFTER handling ---\n",
            "Series([], dtype: int64)\n",
            "\n",
            "--- DataFrame info AFTER handling missing data ---\n",
            "<class 'pandas.core.frame.DataFrame'>\n",
            "RangeIndex: 12684 entries, 0 to 12683\n",
            "Data columns (total 25 columns):\n",
            " #   Column                Non-Null Count  Dtype \n",
            "---  ------                --------------  ----- \n",
            " 0   destination           12684 non-null  object\n",
            " 1   passanger             12684 non-null  object\n",
            " 2   weather               12684 non-null  object\n",
            " 3   temperature           12684 non-null  int64 \n",
            " 4   time                  12684 non-null  object\n",
            " 5   coupon                12684 non-null  object\n",
            " 6   expiration            12684 non-null  object\n",
            " 7   gender                12684 non-null  object\n",
            " 8   age                   12684 non-null  object\n",
            " 9   maritalStatus         12684 non-null  object\n",
            " 10  has_children          12684 non-null  int64 \n",
            " 11  education             12684 non-null  object\n",
            " 12  occupation            12684 non-null  object\n",
            " 13  income                12684 non-null  object\n",
            " 14  Bar                   12684 non-null  object\n",
            " 15  CoffeeHouse           12684 non-null  object\n",
            " 16  CarryAway             12684 non-null  object\n",
            " 17  RestaurantLessThan20  12684 non-null  object\n",
            " 18  Restaurant20To50      12684 non-null  object\n",
            " 19  toCoupon_GEQ5min      12684 non-null  int64 \n",
            " 20  toCoupon_GEQ15min     12684 non-null  int64 \n",
            " 21  toCoupon_GEQ25min     12684 non-null  int64 \n",
            " 22  direction_same        12684 non-null  int64 \n",
            " 23  direction_opp         12684 non-null  int64 \n",
            " 24  Y                     12684 non-null  int64 \n",
            "dtypes: int64(8), object(17)\n",
            "memory usage: 2.4+ MB\n",
            "\n",
            "--- First 5 rows of DataFrame after handling missing data ---\n",
            "       destination  passanger weather  ...  direction_same direction_opp  Y\n",
            "0  No Urgent Place      Alone   Sunny  ...               0             1  1\n",
            "1  No Urgent Place  Friend(s)   Sunny  ...               0             1  0\n",
            "2  No Urgent Place  Friend(s)   Sunny  ...               0             1  1\n",
            "3  No Urgent Place  Friend(s)   Sunny  ...               0             1  0\n",
            "4  No Urgent Place  Friend(s)   Sunny  ...               0             1  0\n",
            "\n",
            "[5 rows x 25 columns]\n"
          ]
        }
      ],
      "source": [
        "import pandas as pd\n",
        "import numpy as np\n",
        "\n",
        "#\n",
        "\n",
        "print(\"--- DataFrame shape BEFORE handling missing data ---\")\n",
        "print(df.shape)\n",
        "\n",
        "if 'car' in df.columns:\n",
        "    df.drop('car', axis=1, inplace=True)\n",
        "    print(\"\\nDropped 'car' column due to high missingness.\")\n",
        "else:\n",
        "    print(\"\\n'car' column not found or already dropped.\")\n",
        "\n",
        "visit_frequency_cols = [\n",
        "    'Bar', 'CoffeeHouse', 'CarryAway', 'RestaurantLessThan20', 'Restaurant20To50'\n",
        "]\n",
        "\n",
        "print(\"\\n--- Imputing missing values in visit frequency columns ---\")\n",
        "for col in visit_frequency_cols:\n",
        "    if col in df.columns and df[col].isnull().any():\n",
        "        mode_value = df[col].mode()[0]\n",
        "        df[col].fillna(mode_value, inplace=True)\n",
        "        print(f\"Filled missing values in '{col}' with its mode: '{mode_value}'\")\n",
        "    elif col in df.columns:\n",
        "        print(f\"Column '{col}' has no missing values.\")\n",
        "    else:\n",
        "        print(f\"Column '{col}' not found.\")\n",
        "\n",
        "print(\"\\n--- Missing values AFTER handling ---\")\n",
        "missing_after_handling = df.isnull().sum()\n",
        "print(missing_after_handling[missing_after_handling > 0])\n",
        "\n",
        "print(\"\\n--- DataFrame info AFTER handling missing data ---\")\n",
        "df.info()\n",
        "\n",
        "print(\"\\n--- First 5 rows of DataFrame after handling missing data ---\")\n",
        "print(df.head())"
      ]
    },
    {
      "cell_type": "markdown",
      "metadata": {
        "id": "YE6oJbXd_qRI"
      },
      "source": [
        "4. What proportion of the total observations chose to accept the coupon?\n",
        "\n"
      ]
    },
    {
      "cell_type": "code",
      "execution_count": 16,
      "metadata": {
        "id": "86GGqBTv_qRI",
        "executionInfo": {
          "status": "ok",
          "timestamp": 1747635597165,
          "user_tz": 420,
          "elapsed": 190,
          "user": {
            "displayName": "Anik Ghosh",
            "userId": "05892729527457108597"
          }
        },
        "outputId": "7c1ce29b-d346-4f57-9295-dd5b8dcc2e50"
      },
      "outputs": [
        {
          "output_type": "stream",
          "name": "stdout",
          "text": [
            "Proportion of observations that accepted the coupon (Y=1): 0.5684\n",
            "Percentage of observations that accepted the coupon (Y=1): 56.84%\n"
          ]
        }
      ],
      "source": [
        "proportion_accepted = df['Y'].value_counts(normalize=True)[1]\n",
        "\n",
        "print(f\"Proportion of observations that accepted the coupon (Y=1): {proportion_accepted:.4f}\")\n",
        "print(f\"Percentage of observations that accepted the coupon (Y=1): {proportion_accepted*100:.2f}%\")"
      ]
    },
    {
      "cell_type": "markdown",
      "metadata": {
        "id": "vflz0DoE_qRI"
      },
      "source": [
        "5. Use a bar plot to visualize the `coupon` column."
      ]
    },
    {
      "cell_type": "code",
      "execution_count": 17,
      "metadata": {
        "id": "dHFh3E45_qRI",
        "colab": {
          "height": 441
        },
        "executionInfo": {
          "status": "ok",
          "timestamp": 1747635614727,
          "user_tz": 420,
          "elapsed": 271,
          "user": {
            "displayName": "Anik Ghosh",
            "userId": "05892729527457108597"
          }
        },
        "outputId": "7d281e8b-eff7-46a5-b7ee-57fff2cc1262"
      },
      "outputs": [
        {
          "output_type": "display_data",
          "data": {
            "image/png": "[encoded data removed]",
            "text/plain": [
              "<Figure size 720x432 with 1 Axes>"
            ]
          },
          "metadata": {
            "image/png": {
              "height": 424,
              "width": 712
            },
            "needs_background": "light"
          }
        }
      ],
      "source": [
        "import matplotlib.pyplot as plt\n",
        "import seaborn as sns\n",
        "import pandas as pd\n",
        "\n",
        "\n",
        "plt.figure(figsize=(10, 6))\n",
        "sns.countplot(x='coupon', data=df, palette='viridis', order=df['coupon'].value_counts().index)\n",
        "\n",
        "plt.title('Distribution of Coupon Types')\n",
        "plt.xlabel('Coupon Type')\n",
        "plt.ylabel('Count')\n",
        "plt.xticks(rotation=45, ha='right')\n",
        "plt.tight_layout()\n",
        "plt.show()"
      ]
    },
    {
      "cell_type": "markdown",
      "metadata": {
        "id": "Qw4lCyx2_qRI"
      },
      "source": [
        "6. Use a histogram to visualize the temperature column."
      ]
    },
    {
      "cell_type": "code",
      "execution_count": 18,
      "metadata": {
        "id": "Yg9Anv71_qRI",
        "colab": {
          "height": 348
        },
        "executionInfo": {
          "status": "ok",
          "timestamp": 1747635630533,
          "user_tz": 420,
          "elapsed": 254,
          "user": {
            "displayName": "Anik Ghosh",
            "userId": "05892729527457108597"
          }
        },
        "outputId": "a504d705-8c15-4891-9dd4-00ddd3f6348e"
      },
      "outputs": [
        {
          "output_type": "display_data",
          "data": {
            "image/png": "[encoded data removed]",
            "text/plain": [
              "<Figure size 576x360 with 1 Axes>"
            ]
          },
          "metadata": {
            "image/png": {
              "height": 331,
              "width": 506
            },
            "needs_background": "light"
          }
        }
      ],
      "source": [
        "import matplotlib.pyplot as plt\n",
        "import seaborn as sns\n",
        "import pandas as pd\n",
        "\n",
        "\n",
        "\n",
        "plt.figure(figsize=(8, 5))\n",
        "sns.histplot(x='temperature', data=df, bins=10, kde=True, color='skyblue')\n",
        "\n",
        "plt.title('Distribution of Temperature')\n",
        "plt.xlabel('Temperature (°F)')\n",
        "plt.ylabel('Frequency')\n",
        "plt.grid(axis='y', alpha=0.75)\n",
        "plt.show()"
      ]
    },
    {
      "cell_type": "code",
      "execution_count": null,
      "metadata": {
        "id": "zLtOaJQk_qRI"
      },
      "outputs": [],
      "source": []
    },
    {
      "cell_type": "code",
      "execution_count": null,
      "metadata": {
        "id": "7GBHZKBp_qRJ"
      },
      "outputs": [],
      "source": []
    },
    {
      "cell_type": "code",
      "execution_count": null,
      "metadata": {
        "id": "Y5nBUA-j_qRJ"
      },
      "outputs": [],
      "source": []
    },
    {
      "cell_type": "code",
      "execution_count": null,
      "metadata": {
        "id": "ShcUC-Vm_qRJ"
      },
      "outputs": [],
      "source": []
    },
    {
      "cell_type": "markdown",
      "metadata": {
        "id": "FupfgeJk_qRJ"
      },
      "source": [
        "**Investigating the Bar Coupons**\n",
        "\n",
        "Now, we will lead you through an exploration of just the bar related coupons.  \n",
        "\n",
        "1. Create a new `DataFrame` that contains just the bar coupons.\n"
      ]
    },
    {
      "cell_type": "code",
      "execution_count": 7,
      "metadata": {
        "id": "tMBlWuGq_qRJ",
        "executionInfo": {
          "status": "ok",
          "timestamp": 1747634695184,
          "user_tz": 420,
          "elapsed": 53,
          "user": {
            "displayName": "Anik Ghosh",
            "userId": "05892729527457108597"
          }
        },
        "outputId": "ec2e4704-846d-4f75-fcba-120e4e859cc2"
      },
      "outputs": [
        {
          "output_type": "stream",
          "name": "stdout",
          "text": [
            "--- First 5 rows of the DataFrame containing only Bar coupons ---\n",
            "        destination  passanger weather  ...  direction_same direction_opp  Y\n",
            "9   No Urgent Place     Kid(s)   Sunny  ...               0             1  0\n",
            "13             Home      Alone   Sunny  ...               1             0  1\n",
            "17             Work      Alone   Sunny  ...               0             1  0\n",
            "24  No Urgent Place  Friend(s)   Sunny  ...               0             1  1\n",
            "35             Home      Alone   Sunny  ...               1             0  1\n",
            "\n",
            "[5 rows x 25 columns]\n",
            "\n",
            "Shape of the new 'bar_coupons_df': (2017, 25)\n",
            "\n",
            "Unique coupon types in 'bar_coupons_df':\n",
            "['Bar']\n"
          ]
        }
      ],
      "source": [
        "import pandas as pd\n",
        "\n",
        "\n",
        "bar_coupons_df = df[df['coupon'] == 'Bar'].copy()\n",
        "\n",
        "print(\"--- First 5 rows of the DataFrame containing only Bar coupons ---\")\n",
        "print(bar_coupons_df.head())\n",
        "\n",
        "print(f\"\\nShape of the new 'bar_coupons_df': {bar_coupons_df.shape}\")\n",
        "\n",
        "print(\"\\nUnique coupon types in 'bar_coupons_df':\")\n",
        "print(bar_coupons_df['coupon'].unique())"
      ]
    },
    {
      "cell_type": "markdown",
      "metadata": {
        "id": "8ue6uCqf_qRJ"
      },
      "source": [
        "2. What proportion of bar coupons were accepted?\n"
      ]
    },
    {
      "cell_type": "code",
      "execution_count": 8,
      "metadata": {
        "id": "hSdte8Mi_qRK",
        "executionInfo": {
          "status": "ok",
          "timestamp": 1747634721374,
          "user_tz": 420,
          "elapsed": 56,
          "user": {
            "displayName": "Anik Ghosh",
            "userId": "05892729527457108597"
          }
        },
        "outputId": "e472eba8-f5a3-4cc6-e975-89328769b0c5"
      },
      "outputs": [
        {
          "output_type": "stream",
          "name": "stdout",
          "text": [
            "Proportion of bar coupons that were accepted (Y=1): 0.4100\n",
            "Percentage of bar coupons that were accepted (Y=1): 41.00%\n"
          ]
        }
      ],
      "source": [
        "\n",
        "proportion_accepted_bar_coupons = bar_coupons_df['Y'].value_counts(normalize=True).get(1, 0)\n",
        "\n",
        "print(f\"Proportion of bar coupons that were accepted (Y=1): {proportion_accepted_bar_coupons:.4f}\")\n",
        "print(f\"Percentage of bar coupons that were accepted (Y=1): {proportion_accepted_bar_coupons*100:.2f}%\")"
      ]
    },
    {
      "cell_type": "markdown",
      "metadata": {
        "id": "85nA_iEi_qRK"
      },
      "source": [
        "3. Compare the acceptance rate between those who went to a bar 3 or fewer times a month to those who went more.\n"
      ]
    },
    {
      "cell_type": "code",
      "execution_count": 19,
      "metadata": {
        "id": "LBOrN-XM_qRK",
        "executionInfo": {
          "status": "ok",
          "timestamp": 1747635669338,
          "user_tz": 420,
          "elapsed": 53,
          "user": {
            "displayName": "Anik Ghosh",
            "userId": "05892729527457108597"
          }
        },
        "outputId": "6b0dac24-72ca-4e32-92bd-13c6758ef184"
      },
      "outputs": [
        {
          "output_type": "stream",
          "name": "stdout",
          "text": [
            "Acceptance rate for bar coupons among those who went to a bar 3 or fewer times a month: 0.3707 (37.07%)\n",
            "Acceptance rate for bar coupons among those who went to a bar more than 3 times a month: 0.7688 (76.88%)\n",
            "\n",
            "Observation: Those who went to a bar more than 3 times a month had a higher acceptance rate for bar coupons.\n"
          ]
        }
      ],
      "source": [
        "\n",
        "less_than_or_equal_3_times = ['never', 'less1', '1~3']\n",
        "more_than_3_times = ['4~8', 'gt8']\n",
        "\n",
        "group1_df = bar_coupons_df[bar_coupons_df['Bar'].isin(less_than_or_equal_3_times)]\n",
        "\n",
        "group2_df = bar_coupons_df[bar_coupons_df['Bar'].isin(more_than_3_times)]\n",
        "\n",
        "if not group1_df.empty:\n",
        "    acceptance_rate_group1 = group1_df['Y'].value_counts(normalize=True).get(1, 0)\n",
        "else:\n",
        "    acceptance_rate_group1 = 0 # No data for this group\n",
        "\n",
        "if not group2_df.empty:\n",
        "    acceptance_rate_group2 = group2_df['Y'].value_counts(normalize=True).get(1, 0)\n",
        "else:\n",
        "    acceptance_rate_group2 = 0 # No data for this group\n",
        "\n",
        "\n",
        "print(f\"Acceptance rate for bar coupons among those who went to a bar 3 or fewer times a month: {acceptance_rate_group1:.4f} ({acceptance_rate_group1*100:.2f}%)\")\n",
        "print(f\"Acceptance rate for bar coupons among those who went to a bar more than 3 times a month: {acceptance_rate_group2:.4f} ({acceptance_rate_group2*100:.2f}%)\")\n",
        "\n",
        "if acceptance_rate_group1 > acceptance_rate_group2:\n",
        "    print(\"\\nObservation: Those who went to a bar 3 or fewer times a month had a higher acceptance rate for bar coupons.\")\n",
        "elif acceptance_rate_group2 > acceptance_rate_group1:\n",
        "    print(\"\\nObservation: Those who went to a bar more than 3 times a month had a higher acceptance rate for bar coupons.\")\n",
        "else:\n",
        "    print(\"\\nObservation: The acceptance rates for both groups are similar.\")"
      ]
    },
    {
      "cell_type": "markdown",
      "metadata": {
        "id": "RBgcQwH4_qRK"
      },
      "source": [
        "4. Compare the acceptance rate between drivers who go to a bar more than once a month and are over the age of 25 to the all others.  Is there a difference?\n"
      ]
    },
    {
      "cell_type": "code",
      "execution_count": 20,
      "metadata": {
        "id": "bf28bbeX_qRK",
        "executionInfo": {
          "status": "ok",
          "timestamp": 1747635694817,
          "user_tz": 420,
          "elapsed": 55,
          "user": {
            "displayName": "Anik Ghosh",
            "userId": "05892729527457108597"
          }
        },
        "outputId": "f7f28342-85fc-491e-b4fe-d258921d71c2"
      },
      "outputs": [
        {
          "output_type": "stream",
          "name": "stdout",
          "text": [
            "Acceptance rate for Bar Coupons among drivers who go to a bar >1/month AND are >25: 0.6952 (69.52%)\n",
            "Acceptance rate for Bar Coupons among all other drivers: 0.3350 (33.50%)\n",
            "\n",
            "There is a noticeable difference in acceptance rates (difference: 0.3602).\n",
            "Drivers who go to a bar more than once a month AND are over 25 have a HIGHER acceptance rate.\n"
          ]
        }
      ],
      "source": [
        "\n",
        "bar_frequent_visitors = ['1~3', '4~8', 'gt8']\n",
        "\n",
        "\n",
        "age_over_25 = ['26', '31', '36', '41', '46', '50plus']\n",
        "\n",
        "group1_df = bar_coupons_df[\n",
        "    (bar_coupons_df['Bar'].isin(bar_frequent_visitors)) &\n",
        "    (bar_coupons_df['age'].isin(age_over_25))\n",
        "]\n",
        "\n",
        "\n",
        "group2_df = bar_coupons_df.drop(group1_df.index)\n",
        "\n",
        "\n",
        "if not group1_df.empty:\n",
        "    acceptance_rate_group1 = group1_df['Y'].value_counts(normalize=True).get(1, 0)\n",
        "else:\n",
        "    acceptance_rate_group1 = 0\n",
        "\n",
        "\n",
        "if not group2_df.empty:\n",
        "    acceptance_rate_group2 = group2_df['Y'].value_counts(normalize=True).get(1, 0)\n",
        "else:\n",
        "    acceptance_rate_group2 = 0\n",
        "\n",
        "print(f\"Acceptance rate for Bar Coupons among drivers who go to a bar >1/month AND are >25: {acceptance_rate_group1:.4f} ({acceptance_rate_group1*100:.2f}%)\")\n",
        "print(f\"Acceptance rate for Bar Coupons among all other drivers: {acceptance_rate_group2:.4f} ({acceptance_rate_group2*100:.2f}%)\")\n",
        "\n",
        "difference = abs(acceptance_rate_group1 - acceptance_rate_group2)\n",
        "if difference > 0.05:\n",
        "    print(f\"\\nThere is a noticeable difference in acceptance rates (difference: {difference:.4f}).\")\n",
        "    if acceptance_rate_group1 > acceptance_rate_group2:\n",
        "        print(\"Drivers who go to a bar more than once a month AND are over 25 have a HIGHER acceptance rate.\")\n",
        "    else:\n",
        "        print(\"Drivers who go to a bar more than once a month AND are over 25 have a LOWER acceptance rate.\")\n",
        "else:\n",
        "    print(f\"\\nThere is no substantial difference in acceptance rates (difference: {difference:.4f}).\")"
      ]
    },
    {
      "cell_type": "markdown",
      "metadata": {
        "id": "S4RKT4PJ_qRK"
      },
      "source": [
        "5. Use the same process to compare the acceptance rate between drivers who go to bars more than once a month and had passengers that were not a kid and had occupations other than farming, fishing, or forestry.\n"
      ]
    },
    {
      "cell_type": "code",
      "execution_count": 21,
      "metadata": {
        "id": "sENaI2Tg_qRK",
        "executionInfo": {
          "status": "ok",
          "timestamp": 1747635727730,
          "user_tz": 420,
          "elapsed": 56,
          "user": {
            "displayName": "Anik Ghosh",
            "userId": "05892729527457108597"
          }
        },
        "outputId": "fc82c5c2-8ba3-4e9d-dc4b-fc0f579645a9"
      },
      "outputs": [
        {
          "output_type": "stream",
          "name": "stdout",
          "text": [
            "Acceptance rate for Bar Coupons among drivers who:\n",
            "\n",
            "  - Go to a bar >1/month\n",
            "\n",
            "  - Had passengers not a kid\n",
            "\n",
            "  - Had occupations other than 'Farming Fishing & Forestry': 0.7132 (71.32%)\n",
            "\n",
            "Acceptance rate for Bar Coupons among all other drivers: 0.2960 (29.60%)\n",
            "\n",
            "There is a noticeable difference in acceptance rates (difference: 0.4172).\n",
            "This specific group of drivers has a HIGHER acceptance rate for bar coupons.\n"
          ]
        }
      ],
      "source": [
        "\n",
        "bar_frequent_visitors = ['1~3', '4~8', 'gt8']\n",
        "\n",
        "non_kid_passengers = ['Alone', 'Friend(s)', 'Partner']\n",
        "\n",
        "excluded_occupation = 'Farming Fishing & Forestry'\n",
        "\n",
        "\n",
        "group1_df = bar_coupons_df[\n",
        "    (bar_coupons_df['Bar'].isin(bar_frequent_visitors)) &\n",
        "    (bar_coupons_df['passanger'].isin(non_kid_passengers)) &\n",
        "    (bar_coupons_df['occupation'] != excluded_occupation)\n",
        "]\n",
        "\n",
        "\n",
        "group2_df = bar_coupons_df.drop(group1_df.index)\n",
        "\n",
        "if not group1_df.empty:\n",
        "    acceptance_rate_group1 = group1_df['Y'].value_counts(normalize=True).get(1, 0)\n",
        "else:\n",
        "    acceptance_rate_group1 = 0\n",
        "\n",
        "if not group2_df.empty:\n",
        "    acceptance_rate_group2 = group2_df['Y'].value_counts(normalize=True).get(1, 0)\n",
        "else:\n",
        "    acceptance_rate_group2 = 0 #\n",
        "\n",
        "\n",
        "print(f\"Acceptance rate for Bar Coupons among drivers who:\\n\")\n",
        "print(f\"  - Go to a bar >1/month\\n\")\n",
        "print(f\"  - Had passengers not a kid\\n\")\n",
        "print(f\"  - Had occupations other than 'Farming Fishing & Forestry': {acceptance_rate_group1:.4f} ({acceptance_rate_group1*100:.2f}%)\")\n",
        "print(f\"\\nAcceptance rate for Bar Coupons among all other drivers: {acceptance_rate_group2:.4f} ({acceptance_rate_group2*100:.2f}%)\")\n",
        "\n",
        "difference = abs(acceptance_rate_group1 - acceptance_rate_group2)\n",
        "if difference > 0.05:\n",
        "    print(f\"\\nThere is a noticeable difference in acceptance rates (difference: {difference:.4f}).\")\n",
        "    if acceptance_rate_group1 > acceptance_rate_group2:\n",
        "        print(\"This specific group of drivers has a HIGHER acceptance rate for bar coupons.\")\n",
        "    else:\n",
        "        print(\"This specific group of drivers has a LOWER acceptance rate for bar coupons.\")\n",
        "else:\n",
        "    print(f\"\\nThere is no substantial difference in acceptance rates (difference: {difference:.4f}).\")"
      ]
    },
    {
      "cell_type": "markdown",
      "metadata": {
        "id": "n2LIUTil_qRK"
      },
      "source": [
        "6. Compare the acceptance rates between those drivers who:\n",
        "\n",
        "- go to bars more than once a month, had passengers that were not a kid, and were not widowed *OR*\n",
        "- go to bars more than once a month and are under the age of 30 *OR*\n",
        "- go to cheap restaurants more than 4 times a month and income is less than 50K.\n",
        "\n"
      ]
    },
    {
      "cell_type": "code",
      "execution_count": 22,
      "metadata": {
        "id": "aK_wEzx7_qRK",
        "executionInfo": {
          "status": "ok",
          "timestamp": 1747635768464,
          "user_tz": 420,
          "elapsed": 52,
          "user": {
            "displayName": "Anik Ghosh",
            "userId": "05892729527457108597"
          }
        },
        "outputId": "35c81df9-3cbd-47a3-f0e4-99a24ae76472"
      },
      "outputs": [
        {
          "output_type": "stream",
          "name": "stdout",
          "text": [
            "Acceptance rate for the TARGET GROUP (meeting any of the specified criteria): 0.6054 (60.54%)\n",
            "Acceptance rate for ALL OTHER drivers: 0.5431 (54.31%)\n",
            "\n",
            "There is a noticeable difference in acceptance rates (difference: 0.0622).\n",
            "The TARGET GROUP has a HIGHER coupon acceptance rate.\n"
          ]
        }
      ],
      "source": [
        "import pandas as pd\n",
        "\n",
        "\n",
        "bar_frequent_visitors = ['1~3', '4~8', 'gt8']\n",
        "non_kid_passengers = ['Alone', 'Friend(s)', 'Partner']\n",
        "age_under_30 = ['below21', '21', '26']\n",
        "cheap_restaurants_frequent = ['4~8', 'gt8'] # Assuming 'RestaurantLessThan20' counts\n",
        "income_less_than_50k = ['Less than $12500', '$12500 - $24999', '$25000 - $37499', '$37500 - $49999']\n",
        "\n",
        "\n",
        "mask_A = (df['Bar'].isin(bar_frequent_visitors)) & \\\n",
        "         (df['passanger'].isin(non_kid_passengers)) & \\\n",
        "         (df['maritalStatus'] != 'Widowed')\n",
        "\n",
        "mask_B = (df['Bar'].isin(bar_frequent_visitors)) & \\\n",
        "         (df['age'].isin(age_under_30))\n",
        "\n",
        "mask_C = (df['RestaurantLessThan20'].isin(cheap_restaurants_frequent)) & \\\n",
        "         (df['income'].isin(income_less_than_50k))\n",
        "\n",
        "target_group_mask = mask_A | mask_B | mask_C\n",
        "group1_df = df[target_group_mask].copy()\n",
        "\n",
        "group2_df = df[~target_group_mask].copy()\n",
        "\n",
        "\n",
        "if not group1_df.empty:\n",
        "    acceptance_rate_group1 = group1_df['Y'].value_counts(normalize=True).get(1, 0)\n",
        "else:\n",
        "    acceptance_rate_group1 = 0\n",
        "\n",
        "if not group2_df.empty:\n",
        "    acceptance_rate_group2 = group2_df['Y'].value_counts(normalize=True).get(1, 0)\n",
        "else:\n",
        "    acceptance_rate_group2 = 0\n",
        "\n",
        "\n",
        "print(f\"Acceptance rate for the TARGET GROUP (meeting any of the specified criteria): {acceptance_rate_group1:.4f} ({acceptance_rate_group1*100:.2f}%)\")\n",
        "print(f\"Acceptance rate for ALL OTHER drivers: {acceptance_rate_group2:.4f} ({acceptance_rate_group2*100:.2f}%)\")\n",
        "\n",
        "difference = abs(acceptance_rate_group1 - acceptance_rate_group2)\n",
        "if difference > 0.05:\n",
        "    print(f\"\\nThere is a noticeable difference in acceptance rates (difference: {difference:.4f}).\")\n",
        "    if acceptance_rate_group1 > acceptance_rate_group2:\n",
        "        print(\"The TARGET GROUP has a HIGHER coupon acceptance rate.\")\n",
        "    else:\n",
        "        print(\"The TARGET GROUP has a LOWER coupon acceptance rate.\")\n",
        "else:\n",
        "    print(f\"\\nThere is no substantial difference in acceptance rates (difference: {difference:.4f}).\")"
      ]
    },
    {
      "cell_type": "markdown",
      "metadata": {
        "id": "v3fL3QkO_qRK"
      },
      "source": [
        "7.  Based on these observations, what do you hypothesize about drivers who accepted the bar coupons?"
      ]
    },
    {
      "cell_type": "code",
      "execution_count": 13,
      "metadata": {
        "id": "Y48naDFh_qRL",
        "colab": {
          "height": 158
        },
        "executionInfo": {
          "status": "error",
          "timestamp": 1747635022632,
          "user_tz": 420,
          "elapsed": 8,
          "user": {
            "displayName": "Anik Ghosh",
            "userId": "05892729527457108597"
          }
        },
        "outputId": "68dc7e24-4e21-451f-80b7-330f1f045dbb"
      },
      "outputs": [
        {
          "output_type": "error",
          "ename": "SyntaxError",
          "evalue": "invalid syntax (<ipython-input-13-82371cc27fe6>, line 1)",
          "traceback": [
            "\u001b[0;36m  File \u001b[0;32m\"<ipython-input-13-82371cc27fe6>\"\u001b[0;36m, line \u001b[0;32m1\u001b[0m\n\u001b[0;31m    Drivers who regularly frequent bars (more than once a month), especially those over the age of 25 and without children as passengers, are significantly more likely to accept bar coupons, indicating that established bar-going habits and a specific adult-oriented social lifestyle are strong predictors of bar coupon acceptance.\u001b[0m\n\u001b[0m            ^\u001b[0m\n\u001b[0;31mSyntaxError\u001b[0m\u001b[0;31m:\u001b[0m invalid syntax\n"
          ],
          "debug": {
            "argv": [
              "/export/hda3/borglet/remote_hdd_fs_dirs/0.colab_kernel_pool_revshare-explainer_1.kernel.youtube-financial-revshare-explainer.27742145158574.14b334fb3717c109/mount/server/explainer_notebook.par",
              "kernel",
              "-f",
              "/tmp/ipy-be-8kxnty4c/profile_colab/security/kernel-8d5bdd02-5dbe-4bce-9ffa-a52641226fdd.json",
              "--profile-dir=/tmp/ipy-be-8kxnty4c/profile_colab",
              "--profile=colab",
              "--ipython-dir=/tmp/ipy-be-75zm03_h",
              "--no-secure"
            ],
            "build": "Built on Fri May 16 10:44:01 2025 (1747417441)\nBuilt by rbex-enqueue-targets@lmkq21.prod.google.com:/google/src/cloud/buildrabbit-username/buildrabbit-client/google3\nBuilt as //video/youtube/logs/financial/revshare/ownership_templates/explainer/python:explainer_notebook\nBuild ID: 8b6d455d-fbc4-4eed-8e34-ad68266364cf\nBuilt from changelist 759665259 in a mint client based on //depot/branches/youtube_revshare_and_payments_release_branch/757041112.1/google3\nBuild label: yt_revenue_payments_20250510_000_RC3\nBuild platform: gcc-4.X.Y-crosstool-v18-llvm-grtev4-k8.k8\nBuild tool: Blaze, release blaze-2025.04.26-1 (mainline @751384015)\nBuilt with par options [\"--compress\", \"--compress_level=6\", \"--compress\"]\nCurrently running under Python 3.12.8: embedded.\n",
            "user": "youtube-financial-revshare-explainer"
          }
        }
      ],
      "source": [
        "Drivers who regularly frequent bars (more than once a month), especially those over the age of 25 and without children as passengers, are significantly more likely to accept bar coupons, indicating that established bar-going habits and a specific adult-oriented social lifestyle are strong predictors of bar coupon acceptance."
      ]
    },
    {
      "cell_type": "markdown",
      "metadata": {
        "id": "r4Hu1zOb_qRL"
      },
      "source": [
        "### Independent Investigation\n",
        "\n",
        "Using the bar coupon example as motivation, you are to explore one of the other coupon groups and try to determine the characteristics of passengers who accept the coupons.  "
      ]
    },
    {
      "cell_type": "code",
      "execution_count": null,
      "metadata": {
        "id": "0c71cQhu_qRL"
      },
      "outputs": [],
      "source": []
    },
    {
      "cell_type": "code",
      "execution_count": null,
      "metadata": {
        "id": "QEsBkvIN_qRL"
      },
      "outputs": [],
      "source": []
    },
    {
      "cell_type": "code",
      "execution_count": null,
      "metadata": {
        "id": "fTC2WGE3_qRL"
      },
      "outputs": [],
      "source": []
    },
    {
      "cell_type": "code",
      "execution_count": null,
      "metadata": {
        "id": "RrqUWn7d_qRL"
      },
      "outputs": [],
      "source": []
    },
    {
      "cell_type": "code",
      "execution_count": null,
      "metadata": {
        "id": "_oykf8YP_qRL"
      },
      "outputs": [],
      "source": []
    }
  ],
  "metadata": {
    "kernelspec": {
      "display_name": "Python 3 (ipykernel)",
      "language": "python",
      "name": "python3"
    },
    "language_info": {
      "codemirror_mode": {
        "name": "ipython",
        "version": 3
      },
      "file_extension": ".py",
      "mimetype": "text/x-python",
      "name": "python",
      "nbconvert_exporter": "python",
      "pygments_lexer": "ipython3",
      "version": "3.12.1"
    },
    "colab": {
      "provenance": []
    }
  },
  "nbformat": 4,
  "nbformat_minor": 0
}